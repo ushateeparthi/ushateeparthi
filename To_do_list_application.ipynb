{
  "nbformat": 4,
  "nbformat_minor": 0,
  "metadata": {
    "colab": {
      "provenance": []
    },
    "kernelspec": {
      "name": "python3",
      "display_name": "Python 3"
    },
    "language_info": {
      "name": "python"
    }
  },
  "cells": [
    {
      "cell_type": "code",
      "execution_count": 1,
      "metadata": {
        "colab": {
          "base_uri": "https://localhost:8080/"
        },
        "id": "jjNFVde5s44n",
        "outputId": "3cc73f18-b007-4466-b0d8-1a2178dc1875"
      },
      "outputs": [
        {
          "output_type": "stream",
          "name": "stdout",
          "text": [
            "\n",
            "1. Add Task\n",
            "2. Delete Task\n",
            "3. Mark Task as Completed\n",
            "4. Display Tasks\n",
            "5. Exit\n",
            "Enter your choice: 1\n",
            "Enter the task: 1\n",
            "Task added successfully!\n",
            "\n",
            "1. Add Task\n",
            "2. Delete Task\n",
            "3. Mark Task as Completed\n",
            "4. Display Tasks\n",
            "5. Exit\n",
            "Enter your choice: 5\n",
            "Exiting...\n"
          ]
        }
      ],
      "source": [
        "class TodoList:\n",
        "    def __init__(self):\n",
        "        self.tasks = []\n",
        "\n",
        "    def add_task(self, task):\n",
        "        self.tasks.append({\"task\": task, \"completed\": False})\n",
        "\n",
        "    def delete_task(self, index):\n",
        "        del self.tasks[index]\n",
        "\n",
        "    def mark_completed(self, index):\n",
        "        self.tasks[index][\"completed\"] = True\n",
        "\n",
        "    def display_tasks(self):\n",
        "        print(\"To-Do List:\")\n",
        "        for i, task in enumerate(self.tasks):\n",
        "            status = \"Completed\" if task[\"completed\"] else \"Not Completed\"\n",
        "            print(f\"{i + 1}. {task['task']} - {status}\")\n",
        "\n",
        "\n",
        "def main():\n",
        "    todo_list = TodoList()\n",
        "\n",
        "    while True:\n",
        "        print(\"\\n1. Add Task\")\n",
        "        print(\"2. Delete Task\")\n",
        "        print(\"3. Mark Task as Completed\")\n",
        "        print(\"4. Display Tasks\")\n",
        "        print(\"5. Exit\")\n",
        "        choice = input(\"Enter your choice: \")\n",
        "\n",
        "        if choice == \"1\":\n",
        "            task = input(\"Enter the task: \")\n",
        "            todo_list.add_task(task)\n",
        "            print(\"Task added successfully!\")\n",
        "        elif choice == \"2\":\n",
        "            index = int(input(\"Enter the index of the task to delete: \")) - 1\n",
        "            if 0 <= index < len(todo_list.tasks):\n",
        "                todo_list.delete_task(index)\n",
        "                print(\"Task deleted successfully!\")\n",
        "            else:\n",
        "                print(\"Invalid index!\")\n",
        "        elif choice == \"3\":\n",
        "            index = int(input(\"Enter the index of the task to mark as completed: \")) - 1\n",
        "            if 0 <= index < len(todo_list.tasks):\n",
        "                todo_list.mark_completed(index)\n",
        "                print(\"Task marked as completed!\")\n",
        "            else:\n",
        "                print(\"Invalid index!\")\n",
        "        elif choice == \"4\":\n",
        "            todo_list.display_tasks()\n",
        "        elif choice == \"5\":\n",
        "            print(\"Exiting...\")\n",
        "            break\n",
        "        else:\n",
        "            print(\"Invalid choice!\")\n",
        "\n",
        "\n",
        "if __name__ == \"__main__\":\n",
        "    main()\n"
      ]
    }
  ]
}